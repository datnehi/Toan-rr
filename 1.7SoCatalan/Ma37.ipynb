{
 "cells": [
  {
   "cell_type": "code",
   "execution_count": 1,
   "metadata": {},
   "outputs": [
    {
     "data": {
      "text/plain": [
       "['RRRUUU', 'RRURUU', 'RRUURU', 'RURRUU', 'RURURU']"
      ]
     },
     "execution_count": 1,
     "metadata": {},
     "output_type": "execute_result"
    }
   ],
   "source": [
    "def catalan_walks (a , b , n ) :\n",
    "    if a == n :\n",
    "        return ['U' * (n - b ) ]\n",
    "    W = []\n",
    "    if a == b :\n",
    "        for w in catalan_walks ( a +1 , b , n ) :\n",
    "            w = 'R' + w\n",
    "            W . append ( w )\n",
    "    if a > b :\n",
    "        for w in catalan_walks ( a +1 , b , n ) :\n",
    "            w = 'R' + w\n",
    "            W . append ( w )\n",
    "        for w in catalan_walks (a , b +1 , n ) :\n",
    "            w = 'U' + w\n",
    "            W . append ( w )\n",
    "    return W\n",
    "catalan_walks (0 , 0 , 3)"
   ]
  }
 ],
 "metadata": {
  "kernelspec": {
   "display_name": "Python 3",
   "language": "python",
   "name": "python3"
  },
  "language_info": {
   "codemirror_mode": {
    "name": "ipython",
    "version": 3
   },
   "file_extension": ".py",
   "mimetype": "text/x-python",
   "name": "python",
   "nbconvert_exporter": "python",
   "pygments_lexer": "ipython3",
   "version": "3.11.4"
  },
  "orig_nbformat": 4
 },
 "nbformat": 4,
 "nbformat_minor": 2
}
