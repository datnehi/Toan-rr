{
 "cells": [
  {
   "cell_type": "code",
   "execution_count": 5,
   "metadata": {},
   "outputs": [
    {
     "data": {
      "text/plain": [
       "[[[2, 0, -1], [1, 3, -2]], [[1, 3, -2], [2, 0, -1]]]"
      ]
     },
     "execution_count": 5,
     "metadata": {},
     "output_type": "execute_result"
    }
   ],
   "source": [
    "def permutations ( a ) :\n",
    "    n = len ( a )\n",
    "    if n == 1:\n",
    "        return [ a ]\n",
    "    P = []\n",
    "    for i in range ( n ) :\n",
    "        b = a . copy ()\n",
    "        x = b . pop ( i )\n",
    "        for p in permutations ( b ) :\n",
    "            p = [ x ] + p\n",
    "            P . append ( p )\n",
    "    return P\n",
    "\n",
    "permutations( [[ 2 , 0 , -1] ,\n",
    "     [ 1 , 3 , -2]])"
   ]
  }
 ],
 "metadata": {
  "kernelspec": {
   "display_name": "Python 3",
   "language": "python",
   "name": "python3"
  },
  "language_info": {
   "codemirror_mode": {
    "name": "ipython",
    "version": 3
   },
   "file_extension": ".py",
   "mimetype": "text/x-python",
   "name": "python",
   "nbconvert_exporter": "python",
   "pygments_lexer": "ipython3",
   "version": "3.11.4"
  },
  "orig_nbformat": 4
 },
 "nbformat": 4,
 "nbformat_minor": 2
}
