{
 "cells": [
  {
   "cell_type": "code",
   "execution_count": 5,
   "metadata": {},
   "outputs": [
    {
     "data": {
      "text/plain": [
       "[[True, True], [True, False], [False, True], [False, False]]"
      ]
     },
     "execution_count": 5,
     "metadata": {},
     "output_type": "execute_result"
    }
   ],
   "source": [
    "def binary_arrays ( n ) :\n",
    "    if n == 1:\n",
    "        return [[ True ] , [ False ]]\n",
    "    A = [] \n",
    "    for a in binary_arrays (n -1) : \n",
    "        a = [ True ] + a \n",
    "        A . append ( a) \n",
    "    for a in binary_arrays (n -1) : \n",
    "        a = [ False ] + a \n",
    "        A . append ( a) \n",
    "    return A \n",
    "binary_arrays (2) \n",
    "\n"
   ]
  },
  {
   "cell_type": "code",
   "execution_count": 6,
   "metadata": {},
   "outputs": [],
   "source": [
    "from sympy import *"
   ]
  },
  {
   "cell_type": "code",
   "execution_count": 7,
   "metadata": {},
   "outputs": [
    {
     "name": "stdout",
     "output_type": "stream",
     "text": [
      "True True True False\n",
      "True True False False\n",
      "True False True True\n",
      "True False False False\n",
      "False True True True\n",
      "False True False True\n",
      "False False True True\n",
      "False False False True\n"
     ]
    }
   ],
   "source": [
    "p , q , r = symbols ('p q r') \n",
    "P = p >> (~ q & r ) | False \n",
    "for p_ , q_ , r_ in binary_arrays (3) : \n",
    "    print ( p_ , q_ , r_ , P . subs ({ p : p_ , q : q_ , r : r_ }) )"
   ]
  }
 ],
 "metadata": {
  "kernelspec": {
   "display_name": "Python 3",
   "language": "python",
   "name": "python3"
  },
  "language_info": {
   "codemirror_mode": {
    "name": "ipython",
    "version": 3
   },
   "file_extension": ".py",
   "mimetype": "text/x-python",
   "name": "python",
   "nbconvert_exporter": "python",
   "pygments_lexer": "ipython3",
   "version": "3.11.4"
  },
  "orig_nbformat": 4
 },
 "nbformat": 4,
 "nbformat_minor": 2
}
