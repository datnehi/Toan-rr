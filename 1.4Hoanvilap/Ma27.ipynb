{
 "cells": [
  {
   "cell_type": "code",
   "execution_count": 4,
   "metadata": {},
   "outputs": [
    {
     "data": {
      "text/plain": [
       "['RRRRUUUU',\n",
       " 'RRRURUUU',\n",
       " 'RRRUURUU',\n",
       " 'RRRUUURU',\n",
       " 'RRRUUUUR',\n",
       " 'RRURRUUU',\n",
       " 'RRURURUU',\n",
       " 'RRURUURU',\n",
       " 'RRURUUUR',\n",
       " 'RRUURRUU',\n",
       " 'RRUURURU',\n",
       " 'RRUURUUR',\n",
       " 'RRUUURRU',\n",
       " 'RRUUURUR',\n",
       " 'RRUUUURR',\n",
       " 'RURRRUUU',\n",
       " 'RURRURUU',\n",
       " 'RURRUURU',\n",
       " 'RURRUUUR',\n",
       " 'RURURRUU',\n",
       " 'RURURURU',\n",
       " 'RURURUUR',\n",
       " 'RURUURRU',\n",
       " 'RURUURUR',\n",
       " 'RURUUURR',\n",
       " 'RUURRRUU',\n",
       " 'RUURRURU',\n",
       " 'RUURRUUR',\n",
       " 'RUURURRU',\n",
       " 'RUURURUR',\n",
       " 'RUURUURR',\n",
       " 'RUUURRRU',\n",
       " 'RUUURRUR',\n",
       " 'RUUURURR',\n",
       " 'RUUUURRR',\n",
       " 'URRRRUUU',\n",
       " 'URRRURUU',\n",
       " 'URRRUURU',\n",
       " 'URRRUUUR',\n",
       " 'URRURRUU',\n",
       " 'URRURURU',\n",
       " 'URRURUUR',\n",
       " 'URRUURRU',\n",
       " 'URRUURUR',\n",
       " 'URRUUURR',\n",
       " 'URURRRUU',\n",
       " 'URURRURU',\n",
       " 'URURRUUR',\n",
       " 'URURURRU',\n",
       " 'URURURUR',\n",
       " 'URURUURR',\n",
       " 'URUURRRU',\n",
       " 'URUURRUR',\n",
       " 'URUURURR',\n",
       " 'URUUURRR',\n",
       " 'UURRRRUU',\n",
       " 'UURRRURU',\n",
       " 'UURRRUUR',\n",
       " 'UURRURRU',\n",
       " 'UURRURUR',\n",
       " 'UURRUURR',\n",
       " 'UURURRRU',\n",
       " 'UURURRUR',\n",
       " 'UURURURR',\n",
       " 'UURUURRR',\n",
       " 'UUURRRRU',\n",
       " 'UUURRRUR',\n",
       " 'UUURRURR',\n",
       " 'UUURURRR',\n",
       " 'UUUURRRR']"
      ]
     },
     "execution_count": 4,
     "metadata": {},
     "output_type": "execute_result"
    }
   ],
   "source": [
    "def walks (a , b , x , y ) :\n",
    "    if a == x :\n",
    "        return ['U' * (y - b ) ]\n",
    "    if b == y :\n",
    "        return ['R' * (x - a ) ]\n",
    "    W = []\n",
    "    for w in walks ( a +1 , b , x , y ) :\n",
    "        W . append ('R' + w )\n",
    "    for w in walks (a , b +1 , x , y ) :\n",
    "        W . append ('U' + w )\n",
    "    return W\n",
    "\n",
    "walks(1,1,5,5)"
   ]
  }
 ],
 "metadata": {
  "kernelspec": {
   "display_name": "Python 3",
   "language": "python",
   "name": "python3"
  },
  "language_info": {
   "codemirror_mode": {
    "name": "ipython",
    "version": 3
   },
   "file_extension": ".py",
   "mimetype": "text/x-python",
   "name": "python",
   "nbconvert_exporter": "python",
   "pygments_lexer": "ipython3",
   "version": "3.11.4"
  },
  "orig_nbformat": 4
 },
 "nbformat": 4,
 "nbformat_minor": 2
}
