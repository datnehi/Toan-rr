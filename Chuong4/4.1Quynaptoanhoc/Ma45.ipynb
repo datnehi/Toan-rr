{
 "cells": [
  {
   "cell_type": "code",
   "execution_count": 1,
   "metadata": {},
   "outputs": [
    {
     "data": {
      "text/latex": [
       "$\\displaystyle \\frac{\\left(n + 1\\right) \\left(n + 2\\right) \\left(2 n + 3\\right)}{6}$"
      ],
      "text/plain": [
       "(n + 1)*(n + 2)*(2*n + 3)/6"
      ]
     },
     "execution_count": 1,
     "metadata": {},
     "output_type": "execute_result"
    }
   ],
   "source": [
    "from sympy import *\n",
    "n , i = symbols ('n i')\n",
    "Sum ( i **2 , (i , 1 , n ) ) . doit () . factor ()\n",
    "( n *( n +1) *(2* n +1) /6 + ( n +1) **2) . factor ()"
   ]
  }
 ],
 "metadata": {
  "kernelspec": {
   "display_name": "Python 3",
   "language": "python",
   "name": "python3"
  },
  "language_info": {
   "codemirror_mode": {
    "name": "ipython",
    "version": 3
   },
   "file_extension": ".py",
   "mimetype": "text/x-python",
   "name": "python",
   "nbconvert_exporter": "python",
   "pygments_lexer": "ipython3",
   "version": "3.11.4"
  },
  "orig_nbformat": 4
 },
 "nbformat": 4,
 "nbformat_minor": 2
}
