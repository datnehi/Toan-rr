{
 "cells": [
  {
   "cell_type": "code",
   "execution_count": 1,
   "metadata": {},
   "outputs": [
    {
     "name": "stdout",
     "output_type": "stream",
     "text": [
      "[1] 1\n",
      "[1, 3] 4\n",
      "[1, 3, 5] 9\n",
      "[1, 3, 5, 7] 16\n",
      "[1, 3, 5, 7, 9] 25\n"
     ]
    }
   ],
   "source": [
    "for n in range (1 , 6) :\n",
    "    a = [2* i - 1 for i in range (1 , n +1) ]\n",
    "    print (a , sum( a ) )\n"
   ]
  }
 ],
 "metadata": {
  "kernelspec": {
   "display_name": "Python 3",
   "language": "python",
   "name": "python3"
  },
  "language_info": {
   "codemirror_mode": {
    "name": "ipython",
    "version": 3
   },
   "file_extension": ".py",
   "mimetype": "text/x-python",
   "name": "python",
   "nbconvert_exporter": "python",
   "pygments_lexer": "ipython3",
   "version": "3.11.4"
  },
  "orig_nbformat": 4
 },
 "nbformat": 4,
 "nbformat_minor": 2
}
