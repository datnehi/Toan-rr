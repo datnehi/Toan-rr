{
 "cells": [
  {
   "cell_type": "code",
   "execution_count": 1,
   "metadata": {},
   "outputs": [
    {
     "data": {
      "text/plain": [
       "(-73, 72, 1)"
      ]
     },
     "execution_count": 1,
     "metadata": {},
     "output_type": "execute_result"
    }
   ],
   "source": [
    "def gcdex (a , b ) :\n",
    "    x0 , y0 = 1 , 0\n",
    "    x1 , y1 = 0 , 1\n",
    "    while b != 0:\n",
    "        q = a // b\n",
    "        a , b = b , a % b\n",
    "        x = x0 - x1 * q\n",
    "        y = y0 - y1 * q\n",
    "        x0 , y0 = x1 , y1\n",
    "        x1 , y1 = x , y\n",
    "    return x0 , y0 , a\n",
    "gcdex (287 , 291)"
   ]
  }
 ],
 "metadata": {
  "kernelspec": {
   "display_name": "Python 3",
   "language": "python",
   "name": "python3"
  },
  "language_info": {
   "codemirror_mode": {
    "name": "ipython",
    "version": 3
   },
   "file_extension": ".py",
   "mimetype": "text/x-python",
   "name": "python",
   "nbconvert_exporter": "python",
   "pygments_lexer": "ipython3",
   "version": "3.11.4"
  },
  "orig_nbformat": 4
 },
 "nbformat": 4,
 "nbformat_minor": 2
}
