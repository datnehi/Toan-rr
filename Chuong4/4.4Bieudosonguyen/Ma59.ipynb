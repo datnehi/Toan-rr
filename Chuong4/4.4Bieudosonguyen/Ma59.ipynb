{
 "cells": [
  {
   "cell_type": "code",
   "execution_count": 1,
   "metadata": {},
   "outputs": [
    {
     "data": {
      "text/plain": [
       "[1, 2, 2, 2, 3, 1, 3]"
      ]
     },
     "execution_count": 1,
     "metadata": {},
     "output_type": "execute_result"
    }
   ],
   "source": [
    "a = [2 , 4 , 3]\n",
    "b = [3 , 2 , 1 , 4]\n",
    "base = 5\n",
    "k = len( a )\n",
    "l = len( b )\n",
    "s = [0] * ( k + l )\n",
    "for i in range ( l ) :\n",
    "    r = R = 0\n",
    "    for j in range ( k ) :\n",
    "        t = a [j ] * b [ i ] + r\n",
    "        p = t % base\n",
    "        r = t // base\n",
    "        t = s [i + j ] + p + R\n",
    "        s [ i + j ] = t % base\n",
    "        R = t // base\n",
    "    s [ k + i ] = r + R\n",
    "s\n"
   ]
  }
 ],
 "metadata": {
  "kernelspec": {
   "display_name": "Python 3",
   "language": "python",
   "name": "python3"
  },
  "language_info": {
   "codemirror_mode": {
    "name": "ipython",
    "version": 3
   },
   "file_extension": ".py",
   "mimetype": "text/x-python",
   "name": "python",
   "nbconvert_exporter": "python",
   "pygments_lexer": "ipython3",
   "version": "3.11.4"
  },
  "orig_nbformat": 4
 },
 "nbformat": 4,
 "nbformat_minor": 2
}
