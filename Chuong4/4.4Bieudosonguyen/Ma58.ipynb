{
 "cells": [
  {
   "cell_type": "code",
   "execution_count": 1,
   "metadata": {},
   "outputs": [
    {
     "data": {
      "text/plain": [
       "[3, 0, 2, 4, 1]"
      ]
     },
     "execution_count": 1,
     "metadata": {},
     "output_type": "execute_result"
    }
   ],
   "source": [
    "a = [6 , 4 , 2 , 7]\n",
    "b = [5 , 3 , 7 , 4]\n",
    "base = 8\n",
    "k = len( a )\n",
    "r = 0\n",
    "s = [0] * ( k +1)\n",
    "for i in range ( k ) :\n",
    "    t = a [ i] + b [ i ] + r\n",
    "    s [ i ] = t % base\n",
    "    r = t // base\n",
    "s [ k ] = r\n",
    "s\n"
   ]
  }
 ],
 "metadata": {
  "kernelspec": {
   "display_name": "Python 3",
   "language": "python",
   "name": "python3"
  },
  "language_info": {
   "codemirror_mode": {
    "name": "ipython",
    "version": 3
   },
   "file_extension": ".py",
   "mimetype": "text/x-python",
   "name": "python",
   "nbconvert_exporter": "python",
   "pygments_lexer": "ipython3",
   "version": "3.11.4"
  },
  "orig_nbformat": 4
 },
 "nbformat": 4,
 "nbformat_minor": 2
}
