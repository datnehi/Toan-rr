{
 "cells": [
  {
   "cell_type": "code",
   "execution_count": 1,
   "metadata": {},
   "outputs": [
    {
     "data": {
      "text/plain": [
       "{2: 2, 3: 1, 5: 1, 17: 1, 31: 2}"
      ]
     },
     "execution_count": 1,
     "metadata": {},
     "output_type": "execute_result"
    }
   ],
   "source": [
    "def factorint ( n ) :\n",
    "    i = 2\n",
    "    f = {}\n",
    "    while n > 1:\n",
    "        while n % i != 0:\n",
    "            i += 1\n",
    "        e = 0\n",
    "        while n % i == 0:\n",
    "            n //= i\n",
    "            e += 1\n",
    "        f [ i ] = e\n",
    "    return f\n",
    "factorint (980220)"
   ]
  }
 ],
 "metadata": {
  "kernelspec": {
   "display_name": "Python 3",
   "language": "python",
   "name": "python3"
  },
  "language_info": {
   "codemirror_mode": {
    "name": "ipython",
    "version": 3
   },
   "file_extension": ".py",
   "mimetype": "text/x-python",
   "name": "python",
   "nbconvert_exporter": "python",
   "pygments_lexer": "ipython3",
   "version": "3.11.4"
  },
  "orig_nbformat": 4
 },
 "nbformat": 4,
 "nbformat_minor": 2
}
