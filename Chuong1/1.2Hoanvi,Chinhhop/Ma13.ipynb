{
 "cells": [
  {
   "cell_type": "code",
   "execution_count": 2,
   "metadata": {},
   "outputs": [
    {
     "data": {
      "text/plain": [
       "['000', '001', '010', '011', '100', '101', '110', '111']"
      ]
     },
     "execution_count": 2,
     "metadata": {},
     "output_type": "execute_result"
    }
   ],
   "source": [
    "def binary_strs ( n ) :\n",
    "    if n ==1:\n",
    "        return ['0', '1']\n",
    "    A = []\n",
    "    for s in binary_strs (n -1) :\n",
    "        A . append ('0' + s )\n",
    "    for s in binary_strs (n -1) :\n",
    "        A . append ('1' + s )\n",
    "    return A\n",
    "binary_strs (3)"
   ]
  }
 ],
 "metadata": {
  "kernelspec": {
   "display_name": "Python 3",
   "language": "python",
   "name": "python3"
  },
  "language_info": {
   "codemirror_mode": {
    "name": "ipython",
    "version": 3
   },
   "file_extension": ".py",
   "mimetype": "text/x-python",
   "name": "python",
   "nbconvert_exporter": "python",
   "pygments_lexer": "ipython3",
   "version": "3.11.4"
  },
  "orig_nbformat": 4
 },
 "nbformat": 4,
 "nbformat_minor": 2
}
