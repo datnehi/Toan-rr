{
 "cells": [
  {
   "cell_type": "code",
   "execution_count": 3,
   "metadata": {},
   "outputs": [
    {
     "data": {
      "text/plain": [
       "[['A', 'B', 'L', 'L'],\n",
       " ['A', 'L', 'B', 'L'],\n",
       " ['A', 'L', 'L', 'B'],\n",
       " ['B', 'A', 'L', 'L'],\n",
       " ['B', 'L', 'A', 'L'],\n",
       " ['B', 'L', 'L', 'A'],\n",
       " ['L', 'A', 'B', 'L'],\n",
       " ['L', 'A', 'L', 'B'],\n",
       " ['L', 'B', 'A', 'L'],\n",
       " ['L', 'B', 'L', 'A'],\n",
       " ['L', 'L', 'A', 'B'],\n",
       " ['L', 'L', 'B', 'A']]"
      ]
     },
     "execution_count": 3,
     "metadata": {},
     "output_type": "execute_result"
    }
   ],
   "source": [
    "def permutations_with_replacement (a , n ) :\n",
    "    r = len (a )\n",
    "    if sum( n ) == 0:\n",
    "        return [[]]\n",
    "    P = []\n",
    "    for i in range ( r ) :\n",
    "        if n [ i ] > 0:\n",
    "            n_ = n . copy ()\n",
    "            n_ [ i ] -= 1\n",
    "            for p in permutations_with_replacement (a , n_ ) :\n",
    "                p = [ a[ i ]] + p\n",
    "                P . append ( p)\n",
    "    return P\n",
    "permutations_with_replacement ([ 'A', 'B', 'L'] , [1 , 1 , 2])"
   ]
  }
 ],
 "metadata": {
  "kernelspec": {
   "display_name": "Python 3",
   "language": "python",
   "name": "python3"
  },
  "language_info": {
   "codemirror_mode": {
    "name": "ipython",
    "version": 3
   },
   "file_extension": ".py",
   "mimetype": "text/x-python",
   "name": "python",
   "nbconvert_exporter": "python",
   "pygments_lexer": "ipython3",
   "version": "3.11.4"
  },
  "orig_nbformat": 4
 },
 "nbformat": 4,
 "nbformat_minor": 2
}
