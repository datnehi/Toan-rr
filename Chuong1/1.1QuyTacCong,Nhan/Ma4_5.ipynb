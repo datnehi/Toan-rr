{
 "cells": [
  {
   "cell_type": "code",
   "execution_count": 3,
   "metadata": {},
   "outputs": [],
   "source": [
    "A = [[ 2 , 0 , -1] ,\n",
    "     [ 1 , 3 , -2]]\n",
    "B = [[ 0 , -1 , 1 , 0] ,\n",
    "     [ 2 , 3 , -1 , 4] ,\n",
    "     [ -3 , 0 , -2 , 1]]"
   ]
  },
  {
   "cell_type": "code",
   "execution_count": 4,
   "metadata": {},
   "outputs": [
    {
     "data": {
      "text/plain": [
       "[[3, -2, 4, -1], [12, 8, 2, 10]]"
      ]
     },
     "execution_count": 4,
     "metadata": {},
     "output_type": "execute_result"
    }
   ],
   "source": [
    "def matrix_mul (A , B ) :\n",
    "    m , n = len( A ) , len( B )\n",
    "    p = len ( B [0])\n",
    "    C = [[0 for j in range ( p ) ] for i in range ( m ) ]\n",
    "    for i in range ( m ) :\n",
    "        for j in range ( p ) :\n",
    "            for k in range ( n ) :\n",
    "                C [ i ][ j ] += A [ i ][ k ] * B [k ][ j ]\n",
    "    return C\n",
    "matrix_mul (A , B )\n"
   ]
  }
 ],
 "metadata": {
  "kernelspec": {
   "display_name": "Python 3",
   "language": "python",
   "name": "python3"
  },
  "language_info": {
   "codemirror_mode": {
    "name": "ipython",
    "version": 3
   },
   "file_extension": ".py",
   "mimetype": "text/x-python",
   "name": "python",
   "nbconvert_exporter": "python",
   "pygments_lexer": "ipython3",
   "version": "3.11.4"
  },
  "orig_nbformat": 4
 },
 "nbformat": 4,
 "nbformat_minor": 2
}
