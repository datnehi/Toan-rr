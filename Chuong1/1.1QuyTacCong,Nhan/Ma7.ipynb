{
 "cells": [
  {
   "cell_type": "code",
   "execution_count": 2,
   "metadata": {},
   "outputs": [
    {
     "data": {
      "text/plain": [
       "[2, 5, 7, 8, 9]"
      ]
     },
     "execution_count": 2,
     "metadata": {},
     "output_type": "execute_result"
    }
   ],
   "source": [
    "def BubbleSort ( x ) :\n",
    "    n = len (x )\n",
    "    for i in range (n -1) :\n",
    "        for j in range (n -1 ,i , -1) :\n",
    "            if x [ j ] < x [j -1]:\n",
    "                x [j -1] , x [ j ] = x [ j ] , x [j -1]\n",
    "    return x\n",
    "BubbleSort ([7 , 9 , 2 , 5 , 8])"
   ]
  }
 ],
 "metadata": {
  "kernelspec": {
   "display_name": "Python 3",
   "language": "python",
   "name": "python3"
  },
  "language_info": {
   "codemirror_mode": {
    "name": "ipython",
    "version": 3
   },
   "file_extension": ".py",
   "mimetype": "text/x-python",
   "name": "python",
   "nbconvert_exporter": "python",
   "pygments_lexer": "ipython3",
   "version": "3.11.4"
  },
  "orig_nbformat": 4
 },
 "nbformat": 4,
 "nbformat_minor": 2
}
