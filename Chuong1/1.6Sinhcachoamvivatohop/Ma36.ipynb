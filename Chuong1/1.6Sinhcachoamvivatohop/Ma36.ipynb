{
 "cells": [
  {
   "cell_type": "code",
   "execution_count": 1,
   "metadata": {},
   "outputs": [
    {
     "data": {
      "text/plain": [
       "[1, 0, 0, 0, 1, 0, 1, 0, 0, 0]"
      ]
     },
     "execution_count": 1,
     "metadata": {},
     "output_type": "execute_result"
    }
   ],
   "source": [
    "def next_bin_str ( a ) :\n",
    "    n = len ( a )\n",
    "    i = n - 1\n",
    "    while i >=0 and a [ i ] == 1:\n",
    "        i -= 1\n",
    "    if i == -1:\n",
    "        return None\n",
    "    for j in range (i , n) :\n",
    "        a [ j ] = 1 - a [ j ]\n",
    "    return a\n",
    "a = [1 , 0 , 0 , 0 , 1 , 0 , 0 , 1 , 1 , 1]\n",
    "next_bin_str ( a )\n"
   ]
  }
 ],
 "metadata": {
  "kernelspec": {
   "display_name": "Python 3",
   "language": "python",
   "name": "python3"
  },
  "language_info": {
   "codemirror_mode": {
    "name": "ipython",
    "version": 3
   },
   "file_extension": ".py",
   "mimetype": "text/x-python",
   "name": "python",
   "nbconvert_exporter": "python",
   "pygments_lexer": "ipython3",
   "version": "3.11.4"
  },
  "orig_nbformat": 4
 },
 "nbformat": 4,
 "nbformat_minor": 2
}
