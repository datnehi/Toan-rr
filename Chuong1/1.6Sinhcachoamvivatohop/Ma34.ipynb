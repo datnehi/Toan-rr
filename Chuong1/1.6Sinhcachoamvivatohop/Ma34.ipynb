{
 "cells": [
  {
   "cell_type": "code",
   "execution_count": 3,
   "metadata": {},
   "outputs": [
    {
     "data": {
      "text/plain": [
       "[3, 6, 2, 4, 1, 5]"
      ]
     },
     "execution_count": 3,
     "metadata": {},
     "output_type": "execute_result"
    }
   ],
   "source": [
    "def next_permutations ( a ) :\n",
    "    n = len (a )\n",
    "    k = n - 1\n",
    "    while k >= 1 and a [k -1] > a [ k ]:\n",
    "        k -= 1\n",
    "    if k == 0:\n",
    "        return None\n",
    "    i = n - 1\n",
    "    while a [ i] < a [k -1]:\n",
    "        i -= 1\n",
    "    a [k -1] , a [i ] = a [ i ] , a [k -1]\n",
    "    b = a [ k :]\n",
    "    b . reverse ()\n",
    "    return a [: k ] + b\n",
    "next_permutations ([3 , 6 , 2 , 5 , 4 , 1])"
   ]
  }
 ],
 "metadata": {
  "kernelspec": {
   "display_name": "Python 3",
   "language": "python",
   "name": "python3"
  },
  "language_info": {
   "codemirror_mode": {
    "name": "ipython",
    "version": 3
   },
   "file_extension": ".py",
   "mimetype": "text/x-python",
   "name": "python",
   "nbconvert_exporter": "python",
   "pygments_lexer": "ipython3",
   "version": "3.11.4"
  },
  "orig_nbformat": 4
 },
 "nbformat": 4,
 "nbformat_minor": 2
}
