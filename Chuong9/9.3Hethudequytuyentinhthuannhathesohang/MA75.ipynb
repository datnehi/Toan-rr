{
 "cells": [
  {
   "cell_type": "code",
   "execution_count": 2,
   "metadata": {},
   "outputs": [
    {
     "data": {
      "text/plain": [
       "{C1: 4, C2: -3, C3: 1}"
      ]
     },
     "execution_count": 2,
     "metadata": {},
     "output_type": "execute_result"
    }
   ],
   "source": [
    "from sympy import *\n",
    "\n",
    "x = symbols('x')\n",
    "P = x ** 3 - 3 * x + 2\n",
    "P.factor()\n",
    "\n",
    "C1, C2, C3 = symbols('C1 C2 C3')\n",
    "ans = C1 + C2 * x + (-2) ** x * C3  #\n",
    "[ans.subs(x, i) for i in [0, 1, 2]]\n",
    "\n",
    "eqns = [ans.subs(x, i) - a for i, a in zip([0, 1, 2], [5, -1, 2])]\n",
    "solve(eqns)\n"
   ]
  }
 ],
 "metadata": {
  "kernelspec": {
   "display_name": "Python 3",
   "language": "python",
   "name": "python3"
  },
  "language_info": {
   "codemirror_mode": {
    "name": "ipython",
    "version": 3
   },
   "file_extension": ".py",
   "mimetype": "text/x-python",
   "name": "python",
   "nbconvert_exporter": "python",
   "pygments_lexer": "ipython3",
   "version": "3.12.1"
  }
 },
 "nbformat": 4,
 "nbformat_minor": 2
}
