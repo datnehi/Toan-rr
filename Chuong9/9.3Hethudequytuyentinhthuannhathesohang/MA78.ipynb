{
 "cells": [
  {
   "cell_type": "code",
   "execution_count": 1,
   "metadata": {},
   "outputs": [
    {
     "data": {
      "text/plain": [
       "[[], [1], [2], [3], [1, 3]]"
      ]
     },
     "execution_count": 1,
     "metadata": {},
     "output_type": "execute_result"
    }
   ],
   "source": [
    "def subsets_with_condition ( n ) :\n",
    "    if n == 1:\n",
    "        return [[] , [1]]\n",
    "    if n == 2:\n",
    "        return [[] , [1] , [2]]\n",
    "    S = []\n",
    "    for s in subsets_with_condition (n -1) :\n",
    "        S . append ( s )\n",
    "    for s in subsets_with_condition (n -2) :\n",
    "        s . append ( n )\n",
    "        S . append ( s )\n",
    "    return S\n",
    "subsets_with_condition (3)"
   ]
  }
 ],
 "metadata": {
  "kernelspec": {
   "display_name": "Python 3",
   "language": "python",
   "name": "python3"
  },
  "language_info": {
   "codemirror_mode": {
    "name": "ipython",
    "version": 3
   },
   "file_extension": ".py",
   "mimetype": "text/x-python",
   "name": "python",
   "nbconvert_exporter": "python",
   "pygments_lexer": "ipython3",
   "version": "3.12.1"
  }
 },
 "nbformat": 4,
 "nbformat_minor": 2
}
