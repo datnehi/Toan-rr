{
 "cells": [
  {
   "cell_type": "code",
   "execution_count": 1,
   "metadata": {},
   "outputs": [
    {
     "name": "stdout",
     "output_type": "stream",
     "text": [
      "(1/2 + I/2)*(1 - I)**n + (1/2 - I/2)*(1 + I)**n\n"
     ]
    },
    {
     "data": {
      "text/latex": [
       "$\\displaystyle 2^{\\frac{n}{2}} \\sin{\\left(\\frac{\\pi n}{4} \\right)} + 2^{\\frac{n}{2}} \\cos{\\left(\\frac{\\pi n}{4} \\right)}$"
      ],
      "text/plain": [
       "2**(n/2)*sin(pi*n/4) + 2**(n/2)*cos(pi*n/4)"
      ]
     },
     "execution_count": 1,
     "metadata": {},
     "output_type": "execute_result"
    }
   ],
   "source": [
    "\n",
    "from sympy import *\n",
    "n = symbols ('n', integer = True )\n",
    "a = symbols ('a', cls = Function )\n",
    "ans = rsolve (\n",
    "    a ( n +1) - 2* a ( n ) + 2* a (n -1) ,\n",
    "    a ( n ) ,\n",
    "    { a (0) : 1 , a (1) : 2}\n",
    ")\n",
    "ans\n",
    "polar = lambda z : abs ( z ) * E **( I * arg ( z ) )\n",
    "print ( ans )\n",
    "ans = ( Rational (1 , 2) + I /2) * polar (1 - I ) ** n + ( Rational (1 , 2) - I /2)* polar (1 + I ) ** n\n",
    "ans\n",
    "re ( ans )"
   ]
  }
 ],
 "metadata": {
  "kernelspec": {
   "display_name": "Python 3",
   "language": "python",
   "name": "python3"
  },
  "language_info": {
   "codemirror_mode": {
    "name": "ipython",
    "version": 3
   },
   "file_extension": ".py",
   "mimetype": "text/x-python",
   "name": "python",
   "nbconvert_exporter": "python",
   "pygments_lexer": "ipython3",
   "version": "3.12.2"
  }
 },
 "nbformat": 4,
 "nbformat_minor": 2
}
