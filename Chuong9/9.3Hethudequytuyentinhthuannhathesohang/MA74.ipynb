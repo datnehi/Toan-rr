{
 "cells": [
  {
   "cell_type": "code",
   "execution_count": 1,
   "metadata": {},
   "outputs": [
    {
     "data": {
      "text/latex": [
       "$\\displaystyle \\left(-2\\right)^{n} - 3 n + 4$"
      ],
      "text/plain": [
       "(-2)**n - 3*n + 4"
      ]
     },
     "execution_count": 1,
     "metadata": {},
     "output_type": "execute_result"
    }
   ],
   "source": [
    "from sympy import *\n",
    "n = symbols ('n')\n",
    "a = symbols ('a', cls = Function )\n",
    "rsolve (\n",
    "    -a ( n ) + 3* a (n -2) - 2* a (n -3) ,\n",
    "    a ( n )\n",
    ")\n",
    "rsolve (\n",
    "    -a ( n ) + 3* a (n -2) - 2* a (n -3) ,\n",
    "    a ( n ) ,\n",
    "    { a (0) : 5 , a (1) : -1 , a (2) : 2}\n",
    ")"
   ]
  }
 ],
 "metadata": {
  "kernelspec": {
   "display_name": "Python 3",
   "language": "python",
   "name": "python3"
  },
  "language_info": {
   "codemirror_mode": {
    "name": "ipython",
    "version": 3
   },
   "file_extension": ".py",
   "mimetype": "text/x-python",
   "name": "python",
   "nbconvert_exporter": "python",
   "pygments_lexer": "ipython3",
   "version": "3.12.1"
  }
 },
 "nbformat": 4,
 "nbformat_minor": 2
}
