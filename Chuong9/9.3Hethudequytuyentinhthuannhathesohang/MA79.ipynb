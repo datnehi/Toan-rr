{
 "cells": [
  {
   "cell_type": "code",
   "execution_count": 1,
   "metadata": {},
   "outputs": [
    {
     "data": {
      "text/plain": [
       "['01 0', '01 1', '101 ', '110', '111']"
      ]
     },
     "execution_count": 1,
     "metadata": {},
     "output_type": "execute_result"
    }
   ],
   "source": [
    "def binary_strs(n):\n",
    "    if n == 1:\n",
    "        return ['0', '1']\n",
    "    if n == 2:\n",
    "        return ['01 ', '10', '11']\n",
    "    S = []\n",
    "    for s in binary_strs (n -2) :\n",
    "        s = '01 ' + s\n",
    "        S . append ( s)\n",
    "    for s in binary_strs (n -1) :\n",
    "        s = '1'+ s\n",
    "        S . append ( s)\n",
    "    return S\n",
    "binary_strs (3)\n"
   ]
  }
 ],
 "metadata": {
  "kernelspec": {
   "display_name": "Python 3",
   "language": "python",
   "name": "python3"
  },
  "language_info": {
   "codemirror_mode": {
    "name": "ipython",
    "version": 3
   },
   "file_extension": ".py",
   "mimetype": "text/x-python",
   "name": "python",
   "nbconvert_exporter": "python",
   "pygments_lexer": "ipython3",
   "version": "3.12.1"
  }
 },
 "nbformat": 4,
 "nbformat_minor": 2
}
