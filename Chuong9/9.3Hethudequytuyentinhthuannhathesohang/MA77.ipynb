{
 "cells": [
  {
   "cell_type": "code",
   "execution_count": 1,
   "metadata": {},
   "outputs": [
    {
     "data": {
      "text/plain": [
       "[]"
      ]
     },
     "execution_count": 1,
     "metadata": {},
     "output_type": "execute_result"
    }
   ],
   "source": [
    "from sympy import *\n",
    "\n",
    "x = symbols('x')\n",
    "P = x ** 2 - 2 * x + 2\n",
    "solve(P)\n",
    "\n",
    "x = 1 + I\n",
    "r = abs(x)\n",
    "phi = arg(x)\n",
    "C1, C2 = symbols('C1 C2')\n",
    "ans = r ** x * (C1 * cos(x * phi) + C2 * sin(x * phi))  \n",
    "[ans.subs(x, i).simplify() for i in [0, 1]]\n",
    "solve([ans.subs(x, i).simplify() - a for i, a in zip([0, 1], [1, 2])])\n"
   ]
  }
 ],
 "metadata": {
  "kernelspec": {
   "display_name": "Python 3",
   "language": "python",
   "name": "python3"
  },
  "language_info": {
   "codemirror_mode": {
    "name": "ipython",
    "version": 3
   },
   "file_extension": ".py",
   "mimetype": "text/x-python",
   "name": "python",
   "nbconvert_exporter": "python",
   "pygments_lexer": "ipython3",
   "version": "3.12.2"
  }
 },
 "nbformat": 4,
 "nbformat_minor": 2
}
