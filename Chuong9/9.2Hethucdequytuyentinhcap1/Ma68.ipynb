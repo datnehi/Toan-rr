{
 "cells": [
  {
   "cell_type": "code",
   "execution_count": 1,
   "metadata": {},
   "outputs": [
    {
     "data": {
      "text/latex": [
       "$\\displaystyle 100 \\cdot 1.05^{n}$"
      ],
      "text/plain": [
       "100*1.05**n"
      ]
     },
     "execution_count": 1,
     "metadata": {},
     "output_type": "execute_result"
    }
   ],
   "source": [
    "from sympy import *\n",
    "n = symbols ('n')\n",
    "a = symbols ('a', cls = Function )\n",
    "sol = rsolve (\n",
    "    a ( n ) - 1.05* a (n -1) ,\n",
    "    a ( n ) ,\n",
    "    { a (0) : 100}\n",
    ")\n",
    "sol\n"
   ]
  }
 ],
 "metadata": {
  "kernelspec": {
   "display_name": "Python 3",
   "language": "python",
   "name": "python3"
  },
  "language_info": {
   "codemirror_mode": {
    "name": "ipython",
    "version": 3
   },
   "file_extension": ".py",
   "mimetype": "text/x-python",
   "name": "python",
   "nbconvert_exporter": "python",
   "pygments_lexer": "ipython3",
   "version": "3.12.2"
  }
 },
 "nbformat": 4,
 "nbformat_minor": 2
}
