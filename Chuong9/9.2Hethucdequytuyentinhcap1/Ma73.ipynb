{
 "cells": [
  {
   "cell_type": "code",
   "execution_count": 1,
   "metadata": {},
   "outputs": [
    {
     "data": {
      "text/plain": [
       "[[1, 1],\n",
       " [0, 0],\n",
       " [0, 2],\n",
       " [0, 3],\n",
       " [2, 0],\n",
       " [2, 2],\n",
       " [2, 3],\n",
       " [3, 0],\n",
       " [3, 2],\n",
       " [3, 3]]"
      ]
     },
     "execution_count": 1,
     "metadata": {},
     "output_type": "execute_result"
    }
   ],
   "source": [
    "def quaternary_strs ( n ) :\n",
    "    if n == 1:\n",
    "        return [[ i ] for i in range (4) ]\n",
    "    S = []\n",
    "    for i in range (4) :\n",
    "        for s in quaternary_strs (n -1) :\n",
    "            s = [ i ] + s\n",
    "            S . append ( s )\n",
    "    return S\n",
    "    quaternary_strs (2)\n",
    "def quaternary_strs_1s_even ( n ) :\n",
    "    if n == 1:\n",
    "        return [[0] , [2] , [3]]\n",
    "    S = []\n",
    "    for s in quaternary_strs (n -1) :\n",
    "        if s not in quaternary_strs_1s_even (n -1) :\n",
    "            s = [1] + s\n",
    "            S . append ( s )\n",
    "    for i in [0 , 2 , 3]:\n",
    "        for s in quaternary_strs_1s_even (n -1) :\n",
    "            s = [ i ] + s\n",
    "            S . append ( s )\n",
    "    return S\n",
    "quaternary_strs_1s_even (2)"
   ]
  }
 ],
 "metadata": {
  "kernelspec": {
   "display_name": "Python 3",
   "language": "python",
   "name": "python3"
  },
  "language_info": {
   "codemirror_mode": {
    "name": "ipython",
    "version": 3
   },
   "file_extension": ".py",
   "mimetype": "text/x-python",
   "name": "python",
   "nbconvert_exporter": "python",
   "pygments_lexer": "ipython3",
   "version": "3.12.1"
  }
 },
 "nbformat": 4,
 "nbformat_minor": 2
}
