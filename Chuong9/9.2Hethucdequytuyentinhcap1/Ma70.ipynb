{
 "cells": [
  {
   "cell_type": "code",
   "execution_count": 1,
   "metadata": {},
   "outputs": [
    {
     "data": {
      "text/plain": [
       "[[3], [2, 1], [1, 2], [1, 1, 1]]"
      ]
     },
     "execution_count": 1,
     "metadata": {},
     "output_type": "execute_result"
    }
   ],
   "source": [
    "def summands ( n ) :\n",
    "    if n == 1:\n",
    "        return [[1]]\n",
    "    S = []\n",
    "    for s in summands (n -1) :\n",
    "        s [0] += 1\n",
    "        S . append ( s)\n",
    "    for s in summands (n -1) :\n",
    "        s = [1] + s\n",
    "        S . append ( s)\n",
    "    return S\n",
    "summands (3)\n"
   ]
  }
 ],
 "metadata": {
  "kernelspec": {
   "display_name": "Python 3",
   "language": "python",
   "name": "python3"
  },
  "language_info": {
   "codemirror_mode": {
    "name": "ipython",
    "version": 3
   },
   "file_extension": ".py",
   "mimetype": "text/x-python",
   "name": "python",
   "nbconvert_exporter": "python",
   "pygments_lexer": "ipython3",
   "version": "3.12.1"
  }
 },
 "nbformat": 4,
 "nbformat_minor": 2
}
