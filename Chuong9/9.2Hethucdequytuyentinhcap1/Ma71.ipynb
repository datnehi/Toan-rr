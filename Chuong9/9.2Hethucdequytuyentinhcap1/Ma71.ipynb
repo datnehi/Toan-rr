{
 "cells": [
  {
   "cell_type": "code",
   "execution_count": 1,
   "metadata": {},
   "outputs": [
    {
     "data": {
      "text/plain": [
       "[2, 5, 7, 8, 9]"
      ]
     },
     "execution_count": 1,
     "metadata": {},
     "output_type": "execute_result"
    }
   ],
   "source": [
    "def BubleSort ( x ) :\n",
    "    n = len ( x )\n",
    "    if n == 1:\n",
    "        return x\n",
    "    for i in range (n -1 , 0 , -1) :\n",
    "        if x [ i ] < x [i -1]:\n",
    "            x [ i ] , x [i -1] = x [i -1] , x [ i ]\n",
    "    return[x[0]]+BubleSort(x[1:])\n",
    "BubleSort ([7 , 9 , 2 , 5 , 8])\n"
   ]
  }
 ],
 "metadata": {
  "kernelspec": {
   "display_name": "Python 3",
   "language": "python",
   "name": "python3"
  },
  "language_info": {
   "codemirror_mode": {
    "name": "ipython",
    "version": 3
   },
   "file_extension": ".py",
   "mimetype": "text/x-python",
   "name": "python",
   "nbconvert_exporter": "python",
   "pygments_lexer": "ipython3",
   "version": "3.12.1"
  }
 },
 "nbformat": 4,
 "nbformat_minor": 2
}
