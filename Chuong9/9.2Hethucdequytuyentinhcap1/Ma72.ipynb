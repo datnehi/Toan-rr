{
 "cells": [
  {
   "cell_type": "code",
   "execution_count": 1,
   "metadata": {},
   "outputs": [
    {
     "data": {
      "text/plain": [
       "[[1, 'A', 'B'],\n",
       " [2, 'A', 'C'],\n",
       " [1, 'B', 'C'],\n",
       " [3, 'A', 'B'],\n",
       " [1, 'C', 'A'],\n",
       " [2, 'C', 'B'],\n",
       " [1, 'A', 'B']]"
      ]
     },
     "execution_count": 1,
     "metadata": {},
     "output_type": "execute_result"
    }
   ],
   "source": [
    "def hanoi_tower (n , A , B , C ) :\n",
    "    if n == 1:\n",
    "        return [[1 , A , B ]]\n",
    "    return hanoi_tower (n -1 , A , C , B ) + [[ n , A , B ]] + hanoi_tower (n -1 , C ,\n",
    "    B , A )\n",
    "hanoi_tower (3 , 'A','B', 'C')"
   ]
  }
 ],
 "metadata": {
  "kernelspec": {
   "display_name": "Python 3",
   "language": "python",
   "name": "python3"
  },
  "language_info": {
   "codemirror_mode": {
    "name": "ipython",
    "version": 3
   },
   "file_extension": ".py",
   "mimetype": "text/x-python",
   "name": "python",
   "nbconvert_exporter": "python",
   "pygments_lexer": "ipython3",
   "version": "3.12.1"
  }
 },
 "nbformat": 4,
 "nbformat_minor": 2
}
