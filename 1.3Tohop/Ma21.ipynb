{
 "cells": [
  {
   "cell_type": "code",
   "execution_count": 1,
   "metadata": {},
   "outputs": [
    {
     "data": {
      "text/plain": [
       "[[1, 2, 3],\n",
       " [1, 2, 4],\n",
       " [1, 2, 5],\n",
       " [1, 3, 4],\n",
       " [1, 3, 5],\n",
       " [1, 4, 5],\n",
       " [2, 3, 4],\n",
       " [2, 3, 5],\n",
       " [2, 4, 5],\n",
       " [3, 4, 5]]"
      ]
     },
     "execution_count": 1,
     "metadata": {},
     "output_type": "execute_result"
    }
   ],
   "source": [
    "def combinations (a , r ):\n",
    "    if r == 1:\n",
    "        return [[ i ] for i in a ]\n",
    "    n = len ( a )\n",
    "    if r == n :\n",
    "        return [ a ]\n",
    "    C = []\n",
    "    for c in combinations ( a [1:] , r -1) :\n",
    "        c = [ a [0]] + c\n",
    "        C . append ( c)\n",
    "    for c in combinations ( a [1:] , r ) :\n",
    "        C . append ( c)\n",
    "    return C\n",
    "combinations ([1 , 2 , 3 , 4 , 5] , 3)\n"
   ]
  }
 ],
 "metadata": {
  "kernelspec": {
   "display_name": "Python 3",
   "language": "python",
   "name": "python3"
  },
  "language_info": {
   "codemirror_mode": {
    "name": "ipython",
    "version": 3
   },
   "file_extension": ".py",
   "mimetype": "text/x-python",
   "name": "python",
   "nbconvert_exporter": "python",
   "pygments_lexer": "ipython3",
   "version": "3.11.4"
  },
  "orig_nbformat": 4
 },
 "nbformat": 4,
 "nbformat_minor": 2
}
