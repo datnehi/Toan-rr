{
 "cells": [
  {
   "cell_type": "code",
   "execution_count": 1,
   "metadata": {},
   "outputs": [
    {
     "data": {
      "text/plain": [
       "[1, 3, 4, 5]"
      ]
     },
     "execution_count": 1,
     "metadata": {},
     "output_type": "execute_result"
    }
   ],
   "source": [
    "def next_combinations (n , a ) :\n",
    "    r = len ( a )\n",
    "    i = r - 1\n",
    "    while i >= 0 and a [ i ] == n - r + ( i + 1) :\n",
    "        i -= 1\n",
    "    if i == -1:\n",
    "        return None\n",
    "    return a [: i ] + [ a [ i ] + j for j in range (1 , r - i +1) ]\n",
    "next_combinations (6 , [1 , 2 , 5 , 6])\n"
   ]
  }
 ],
 "metadata": {
  "kernelspec": {
   "display_name": "Python 3",
   "language": "python",
   "name": "python3"
  },
  "language_info": {
   "codemirror_mode": {
    "name": "ipython",
    "version": 3
   },
   "file_extension": ".py",
   "mimetype": "text/x-python",
   "name": "python",
   "nbconvert_exporter": "python",
   "pygments_lexer": "ipython3",
   "version": "3.11.4"
  },
  "orig_nbformat": 4
 },
 "nbformat": 4,
 "nbformat_minor": 2
}
