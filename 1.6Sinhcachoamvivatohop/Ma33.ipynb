{
 "cells": [
  {
   "cell_type": "code",
   "execution_count": 2,
   "metadata": {},
   "outputs": [
    {
     "data": {
      "text/plain": [
       "'<'"
      ]
     },
     "execution_count": 2,
     "metadata": {},
     "output_type": "execute_result"
    }
   ],
   "source": [
    "def compare (a , b ) :\n",
    "    m , n = len ( a ) , len( b )\n",
    "    i = 0\n",
    "    while i < m and i < n and a [ i ] == b [ i ]:\n",
    "        i += 1\n",
    "    if i == m == n :\n",
    "        return ('=')\n",
    "    if i == m < n :\n",
    "        return ('<')\n",
    "    if i == n < m :\n",
    "        return ('>')\n",
    "    if i < m and i < n :\n",
    "        if a [ i ] < b [ i ]:\n",
    "            return ('<')\n",
    "        else :\n",
    "            return ('>')\n",
    "compare ([4 , 1 , 2] , [4 , 1 , 2 , 3])\n",
    "# compare ([3 , 1 , 4] , [3 , 1 , 2 , 5])"
   ]
  }
 ],
 "metadata": {
  "kernelspec": {
   "display_name": "Python 3",
   "language": "python",
   "name": "python3"
  },
  "language_info": {
   "codemirror_mode": {
    "name": "ipython",
    "version": 3
   },
   "file_extension": ".py",
   "mimetype": "text/x-python",
   "name": "python",
   "nbconvert_exporter": "python",
   "pygments_lexer": "ipython3",
   "version": "3.11.4"
  },
  "orig_nbformat": 4
 },
 "nbformat": 4,
 "nbformat_minor": 2
}
