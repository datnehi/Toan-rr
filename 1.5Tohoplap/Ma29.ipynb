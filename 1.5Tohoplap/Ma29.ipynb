{
 "cells": [
  {
   "cell_type": "code",
   "execution_count": 1,
   "metadata": {},
   "outputs": [
    {
     "data": {
      "text/plain": [
       "[('A', 'A', 'A', 'A'),\n",
       " ('A', 'A', 'A', 'B'),\n",
       " ('A', 'A', 'A', 'C'),\n",
       " ('A', 'A', 'B', 'B'),\n",
       " ('A', 'A', 'B', 'C'),\n",
       " ('A', 'A', 'C', 'C'),\n",
       " ('A', 'B', 'B', 'B'),\n",
       " ('A', 'B', 'B', 'C'),\n",
       " ('A', 'B', 'C', 'C'),\n",
       " ('A', 'C', 'C', 'C'),\n",
       " ('B', 'B', 'B', 'B'),\n",
       " ('B', 'B', 'B', 'C'),\n",
       " ('B', 'B', 'C', 'C'),\n",
       " ('B', 'C', 'C', 'C'),\n",
       " ('C', 'C', 'C', 'C')]"
      ]
     },
     "execution_count": 1,
     "metadata": {},
     "output_type": "execute_result"
    }
   ],
   "source": [
    "import itertools\n",
    "list ( itertools . combinations_with_replacement ([ 'A', 'B', 'C'] , 4) )\n"
   ]
  }
 ],
 "metadata": {
  "kernelspec": {
   "display_name": "Python 3",
   "language": "python",
   "name": "python3"
  },
  "language_info": {
   "codemirror_mode": {
    "name": "ipython",
    "version": 3
   },
   "file_extension": ".py",
   "mimetype": "text/x-python",
   "name": "python",
   "nbconvert_exporter": "python",
   "pygments_lexer": "ipython3",
   "version": "3.11.4"
  },
  "orig_nbformat": 4
 },
 "nbformat": 4,
 "nbformat_minor": 2
}
