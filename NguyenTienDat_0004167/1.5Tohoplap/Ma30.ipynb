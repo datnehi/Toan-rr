{
 "cells": [
  {
   "cell_type": "code",
   "execution_count": 1,
   "metadata": {},
   "outputs": [
    {
     "data": {
      "text/plain": [
       "[[0, 0, 4],\n",
       " [0, 1, 3],\n",
       " [0, 2, 2],\n",
       " [0, 3, 1],\n",
       " [0, 4, 0],\n",
       " [1, 0, 3],\n",
       " [1, 1, 2],\n",
       " [1, 2, 1],\n",
       " [1, 3, 0],\n",
       " [2, 0, 2],\n",
       " [2, 1, 1],\n",
       " [2, 2, 0],\n",
       " [3, 0, 1],\n",
       " [3, 1, 0],\n",
       " [4, 0, 0]]"
      ]
     },
     "execution_count": 1,
     "metadata": {},
     "output_type": "execute_result"
    }
   ],
   "source": [
    "def solutions (n , r ) :\n",
    "    if n == 1:\n",
    "        return [[ r ]]\n",
    "    S = []\n",
    "    for i in range ( r +1) :\n",
    "        for s in solutions (n -1 , r - i ) :\n",
    "            s = [ i ] + s\n",
    "            S . append ( s )\n",
    "    return S\n",
    "solutions (3 , 4)"
   ]
  }
 ],
 "metadata": {
  "kernelspec": {
   "display_name": "Python 3",
   "language": "python",
   "name": "python3"
  },
  "language_info": {
   "codemirror_mode": {
    "name": "ipython",
    "version": 3
   },
   "file_extension": ".py",
   "mimetype": "text/x-python",
   "name": "python",
   "nbconvert_exporter": "python",
   "pygments_lexer": "ipython3",
   "version": "3.11.4"
  },
  "orig_nbformat": 4
 },
 "nbformat": 4,
 "nbformat_minor": 2
}
