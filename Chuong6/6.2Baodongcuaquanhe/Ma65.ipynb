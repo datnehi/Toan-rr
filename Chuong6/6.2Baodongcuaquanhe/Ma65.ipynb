{
 "cells": [
  {
   "cell_type": "code",
   "execution_count": 1,
   "metadata": {},
   "outputs": [
    {
     "name": "stdout",
     "output_type": "stream",
     "text": [
      "1 [[0 1 0 1]\n",
      " [0 1 0 0]\n",
      " [1 1 0 1]\n",
      " [0 0 1 0]]\n",
      "2 [[0 1 0 1]\n",
      " [0 1 0 0]\n",
      " [1 1 0 1]\n",
      " [0 0 1 0]]\n",
      "3 [[0 1 0 1]\n",
      " [0 1 0 0]\n",
      " [1 1 0 1]\n",
      " [1 1 1 1]]\n",
      "4 [[1 1 1 1]\n",
      " [0 1 0 0]\n",
      " [1 1 1 1]\n",
      " [1 1 1 1]]\n"
     ]
    }
   ],
   "source": [
    "import numpy as np\n",
    "W = np . array ([[0 , 1 , 0 , 1] ,\n",
    "                 [0 , 1 , 0 , 0] ,\n",
    "                 [1 , 0 , 0 , 0] ,\n",
    "                 [0 , 0 , 1 , 0]] , dtype = bool )\n",
    "n = len( W )\n",
    "for k in range ( n ) :\n",
    "    for i in range ( n ) :\n",
    "        for j in range ( n ) :\n",
    "            W [i , j ] += W [i , k ] * W [k , j ]\n",
    "    print ( k +1 , np . array (W , dtype = int) )"
   ]
  }
 ],
 "metadata": {
  "kernelspec": {
   "display_name": "Python 3",
   "language": "python",
   "name": "python3"
  },
  "language_info": {
   "codemirror_mode": {
    "name": "ipython",
    "version": 3
   },
   "file_extension": ".py",
   "mimetype": "text/x-python",
   "name": "python",
   "nbconvert_exporter": "python",
   "pygments_lexer": "ipython3",
   "version": "3.12.2"
  }
 },
 "nbformat": 4,
 "nbformat_minor": 2
}
