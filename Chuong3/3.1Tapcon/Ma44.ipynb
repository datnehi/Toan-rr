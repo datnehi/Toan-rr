{
 "cells": [
  {
   "cell_type": "code",
   "execution_count": 4,
   "metadata": {},
   "outputs": [
    {
     "data": {
      "text/plain": [
       "[[],\n",
       " [1],\n",
       " [1, 2],\n",
       " [1, 2, 3],\n",
       " [1, 2, 3, 4],\n",
       " [1, 2, 4],\n",
       " [1, 3],\n",
       " [1, 3, 4],\n",
       " [1, 4],\n",
       " [2],\n",
       " [2, 3],\n",
       " [2, 3, 4],\n",
       " [2, 4],\n",
       " [3],\n",
       " [3, 4],\n",
       " [4]]"
      ]
     },
     "execution_count": 4,
     "metadata": {},
     "output_type": "execute_result"
    }
   ],
   "source": [
    "def power_set ( a : list ):\n",
    "    if len( a ) == 0:\n",
    "        return [[]]\n",
    "    P = [[]]\n",
    "    for s in power_set ( a [1:]) :\n",
    "        s = [ a [0]] + s\n",
    "        P . append ( s)\n",
    "    for s in power_set ( a [1:]) [1:]:\n",
    "        P . append ( s)\n",
    "    return P\n",
    "\n",
    "power_set([1,2,3,4])"
   ]
  }
 ],
 "metadata": {
  "kernelspec": {
   "display_name": "Python 3",
   "language": "python",
   "name": "python3"
  },
  "language_info": {
   "codemirror_mode": {
    "name": "ipython",
    "version": 3
   },
   "file_extension": ".py",
   "mimetype": "text/x-python",
   "name": "python",
   "nbconvert_exporter": "python",
   "pygments_lexer": "ipython3",
   "version": "3.11.4"
  },
  "orig_nbformat": 4
 },
 "nbformat": 4,
 "nbformat_minor": 2
}
